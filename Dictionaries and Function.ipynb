{
 "cells": [
  {
   "cell_type": "markdown",
   "id": "d889437b",
   "metadata": {},
   "source": [
    "1.1 Write a Python Program(with class concepts) to find the area of the triangle using the below\n",
    "formula.\n",
    "area = (s*(s-a)*(s-b)*(s-c)) ** 0.5\n",
    "Function to take the length of the sides of triangle from user should be defined in the parent\n",
    "class and function to calculate the area should be defined in subclass."
   ]
  },
  {
   "cell_type": "code",
   "execution_count": 1,
   "id": "b505231a",
   "metadata": {},
   "outputs": [],
   "source": [
    "\n",
    "class Base:\n",
    "    def __init__(self):\n",
    "        pass\n",
    "    \n",
    "    def get_sides(self,a,b,c):\n",
    "        self.a=a\n",
    "        self.b=b\n",
    "        self.c=c\n",
    "class SubClass(Base):\n",
    "    def calculate_area(self):\n",
    "        self.s=(self.a+self.b+self.c)/2\n",
    "        self.area=(self.s*(self.s-self.a)*(self.s-self.b)*(self.s-self.c))**0.5\n",
    "        return round(self.area,2)\n",
    "        "
   ]
  },
  {
   "cell_type": "code",
   "execution_count": 2,
   "id": "cb98c818",
   "metadata": {},
   "outputs": [
    {
     "data": {
      "text/plain": [
       "3.8"
      ]
     },
     "execution_count": 2,
     "metadata": {},
     "output_type": "execute_result"
    }
   ],
   "source": [
    "triangle=SubClass()\n",
    "triangle.get_sides(2,4,5)\n",
    "triangle.calculate_area()"
   ]
  },
  {
   "cell_type": "markdown",
   "id": "835f83bc",
   "metadata": {},
   "source": [
    "1.2 Write a function filter_long_words() that takes a list of words and an integer n and returns\n",
    "the list of words that are longer than n."
   ]
  },
  {
   "cell_type": "code",
   "execution_count": 3,
   "id": "5971a19e",
   "metadata": {},
   "outputs": [],
   "source": [
    "def filter_long_words(lst, length):\n",
    "    result=[]\n",
    "    for word in lst:\n",
    "        if len(word)>length:\n",
    "            result.append(word)\n",
    "    return result"
   ]
  },
  {
   "cell_type": "code",
   "execution_count": 4,
   "id": "742ac8b1",
   "metadata": {},
   "outputs": [
    {
     "data": {
      "text/plain": [
       "['difficult', 'xylophone']"
      ]
     },
     "execution_count": 4,
     "metadata": {},
     "output_type": "execute_result"
    }
   ],
   "source": [
    "lst=[\"python\", \"jumble\", \"easy\", \"difficult\", \"answer\",  \"xylophone\"]\n",
    "filter_long_words(lst,6)"
   ]
  },
  {
   "cell_type": "markdown",
   "id": "8d0a56bf",
   "metadata": {},
   "source": [
    "2.1 Write a Python program using function concept that maps list of words into a list of integers\n",
    "representing the lengths of the corresponding words.\n",
    "Hint: If a list [ ab,cde,erty] is passed on to the python function output should come as [2,3,4]\n",
    "Here 2,3 and 4 are the lengths of the words in the list."
   ]
  },
  {
   "cell_type": "code",
   "execution_count": 5,
   "id": "ac5aa9ad",
   "metadata": {},
   "outputs": [],
   "source": [
    "def length_of_word(lst):\n",
    "    result=[]\n",
    "    for word in lst:\n",
    "        result.append(len(word))\n",
    "    return result"
   ]
  },
  {
   "cell_type": "code",
   "execution_count": 6,
   "id": "12a8bd14",
   "metadata": {},
   "outputs": [
    {
     "data": {
      "text/plain": [
       "[6, 6, 4, 9, 6, 9]"
      ]
     },
     "execution_count": 6,
     "metadata": {},
     "output_type": "execute_result"
    }
   ],
   "source": [
    "lst=[\"python\", \"jumble\", \"easy\", \"difficult\", \"answer\",  \"xylophone\"]\n",
    "length_of_word(lst)"
   ]
  },
  {
   "cell_type": "markdown",
   "id": "b464e07d",
   "metadata": {},
   "source": [
    "2.2 Write a Python function which takes a character (i.e. a string of length 1) and returns True if\n",
    "it is a vowel, False otherwise."
   ]
  },
  {
   "cell_type": "code",
   "execution_count": 7,
   "id": "b6da713e",
   "metadata": {},
   "outputs": [],
   "source": [
    "def detect_vowel(char):\n",
    "    if len(char)==1:\n",
    "        if char in ['a','e','i','o','u']:\n",
    "            return True\n",
    "        else:\n",
    "            return False"
   ]
  },
  {
   "cell_type": "code",
   "execution_count": 8,
   "id": "5fb1a2f8",
   "metadata": {},
   "outputs": [
    {
     "data": {
      "text/plain": [
       "True"
      ]
     },
     "execution_count": 8,
     "metadata": {},
     "output_type": "execute_result"
    }
   ],
   "source": [
    "detect_vowel('a')"
   ]
  },
  {
   "cell_type": "code",
   "execution_count": 9,
   "id": "8cea3fd9",
   "metadata": {},
   "outputs": [
    {
     "data": {
      "text/plain": [
       "False"
      ]
     },
     "execution_count": 9,
     "metadata": {},
     "output_type": "execute_result"
    }
   ],
   "source": [
    "detect_vowel('b')"
   ]
  }
 ],
 "metadata": {
  "kernelspec": {
   "display_name": "Python 3 (ipykernel)",
   "language": "python",
   "name": "python3"
  },
  "language_info": {
   "codemirror_mode": {
    "name": "ipython",
    "version": 3
   },
   "file_extension": ".py",
   "mimetype": "text/x-python",
   "name": "python",
   "nbconvert_exporter": "python",
   "pygments_lexer": "ipython3",
   "version": "3.9.7"
  }
 },
 "nbformat": 4,
 "nbformat_minor": 5
}
