{
 "cells": [
  {
   "cell_type": "markdown",
   "id": "67e379c1",
   "metadata": {},
   "source": [
    "1.1 Write a Python Program to implement your own myreduce ( ) function which works exactly\n",
    "like Python's built - in function reduce ( )"
   ]
  },
  {
   "cell_type": "code",
   "execution_count": 1,
   "id": "de0fcf4a",
   "metadata": {},
   "outputs": [],
   "source": [
    "def myreduce(func,iterable):\n",
    "    result=iterable[0]\n",
    "    for index in range(1,len(iterable)):\n",
    "        result=func(result,iterable[index])\n",
    "    return result\n",
    "        "
   ]
  },
  {
   "cell_type": "code",
   "execution_count": 2,
   "id": "39c5bb71",
   "metadata": {},
   "outputs": [
    {
     "data": {
      "text/plain": [
       "19"
      ]
     },
     "execution_count": 2,
     "metadata": {},
     "output_type": "execute_result"
    }
   ],
   "source": [
    "myreduce(lambda a,b:a+b,[2,5,6,6])"
   ]
  },
  {
   "cell_type": "code",
   "execution_count": 3,
   "id": "bb2cf61b",
   "metadata": {},
   "outputs": [
    {
     "data": {
      "text/plain": [
       "60"
      ]
     },
     "execution_count": 3,
     "metadata": {},
     "output_type": "execute_result"
    }
   ],
   "source": [
    "myreduce(lambda a,b:a*b,[10,1,2,3])"
   ]
  },
  {
   "cell_type": "markdown",
   "id": "88cd0d8d",
   "metadata": {},
   "source": [
    "1.2 Write a Python program to implement your own myfilter ( ) function which works exactly\n",
    "like Python's built - in function filter ( )"
   ]
  },
  {
   "cell_type": "code",
   "execution_count": 4,
   "id": "9544b679",
   "metadata": {},
   "outputs": [],
   "source": [
    "def myfilter(func,iterable):\n",
    "    result=[]\n",
    "    for item in iterable:\n",
    "        if func(item)==True:\n",
    "            result.append(item)\n",
    "    return result"
   ]
  },
  {
   "cell_type": "code",
   "execution_count": 5,
   "id": "61eda9b0",
   "metadata": {},
   "outputs": [
    {
     "data": {
      "text/plain": [
       "[2, 4]"
      ]
     },
     "execution_count": 5,
     "metadata": {},
     "output_type": "execute_result"
    }
   ],
   "source": [
    "myfilter(lambda x:x%2==0,[1,2,3,4,5])"
   ]
  },
  {
   "cell_type": "code",
   "execution_count": 6,
   "id": "c93bc880",
   "metadata": {},
   "outputs": [
    {
     "data": {
      "text/plain": [
       "[5, 7]"
      ]
     },
     "execution_count": 6,
     "metadata": {},
     "output_type": "execute_result"
    }
   ],
   "source": [
    "myfilter(lambda x:x%2!=0,(2,4,5,6,7,8))\n"
   ]
  },
  {
   "cell_type": "markdown",
   "id": "95865e84",
   "metadata": {},
   "source": [
    "2. Implement List comprehensions to produce the following lists .\n",
    "Write List comprehensions to produce the following Lists\n",
    "['x', 'xx', 'xxx', 'xxxx', 'y', 'yy', 'yyy', 'yyyy', 'z', 'zz', 'zzz', 'zzzz']"
   ]
  },
  {
   "cell_type": "code",
   "execution_count": 7,
   "id": "6deb6bbc",
   "metadata": {},
   "outputs": [],
   "source": [
    "lst=['x','y','z']\n",
    "new_lst=[item*i for item in lst for i in range(1,5)]"
   ]
  },
  {
   "cell_type": "code",
   "execution_count": 8,
   "id": "2d65b7cf",
   "metadata": {},
   "outputs": [
    {
     "data": {
      "text/plain": [
       "['x', 'xx', 'xxx', 'xxxx', 'y', 'yy', 'yyy', 'yyyy', 'z', 'zz', 'zzz', 'zzzz']"
      ]
     },
     "execution_count": 8,
     "metadata": {},
     "output_type": "execute_result"
    }
   ],
   "source": [
    "new_lst"
   ]
  },
  {
   "cell_type": "markdown",
   "id": "d6f7d8e7",
   "metadata": {},
   "source": [
    "Write List comprehensions to produce the following Lists\n",
    "['x', 'y', 'z', 'xx', 'yy', 'zz', 'xxx', 'yyy', 'zzz', 'xxxx', 'yyyy', 'zzzz']"
   ]
  },
  {
   "cell_type": "code",
   "execution_count": 9,
   "id": "88578404",
   "metadata": {},
   "outputs": [
    {
     "data": {
      "text/plain": [
       "['x', 'y', 'z', 'xx', 'yy', 'zz', 'xxx', 'yyy', 'zzz', 'xxxx', 'yyyy', 'zzzz']"
      ]
     },
     "execution_count": 9,
     "metadata": {},
     "output_type": "execute_result"
    }
   ],
   "source": [
    "lst=['x','y','z']\n",
    "new_lst=[item*i  for i in range(1,5) for item in lst]\n",
    "new_lst"
   ]
  },
  {
   "cell_type": "markdown",
   "id": "57c5a1d9",
   "metadata": {},
   "source": [
    "Write List comprehensions to produce the following Lists\n",
    "[[2], [3], [4], [3], [4], [5], [4], [5], [6]] "
   ]
  },
  {
   "cell_type": "code",
   "execution_count": 10,
   "id": "0251aba7",
   "metadata": {},
   "outputs": [],
   "source": [
    "lst=[1,2,3]\n",
    "new_lst=[]\n",
    "for i in range(1,4):\n",
    "    for item in lst:\n",
    "        new_lst.append([item+i])\n",
    "    "
   ]
  },
  {
   "cell_type": "code",
   "execution_count": 11,
   "id": "04912c03",
   "metadata": {},
   "outputs": [
    {
     "data": {
      "text/plain": [
       "[[2], [3], [4], [3], [4], [5], [4], [5], [6]]"
      ]
     },
     "execution_count": 11,
     "metadata": {},
     "output_type": "execute_result"
    }
   ],
   "source": [
    "new_lst"
   ]
  },
  {
   "cell_type": "code",
   "execution_count": 12,
   "id": "0cbedad5",
   "metadata": {},
   "outputs": [
    {
     "data": {
      "text/plain": [
       "[[2], [3], [4], [3], [4], [5], [4], [5], [6]]"
      ]
     },
     "execution_count": 12,
     "metadata": {},
     "output_type": "execute_result"
    }
   ],
   "source": [
    "lst=[1,2,3]\n",
    "new_lst=[[item+i] for i in range(1,4) for item in lst]\n",
    "new_lst"
   ]
  },
  {
   "cell_type": "markdown",
   "id": "052a5880",
   "metadata": {},
   "source": [
    "Write List comprehensions to produce the following Lists\n",
    "[[2, 3, 4, 5], [3, 4, 5, 6],[4, 5, 6, 7], [5, 6, 7, 8]]"
   ]
  },
  {
   "cell_type": "code",
   "execution_count": 13,
   "id": "f1b58eff",
   "metadata": {},
   "outputs": [
    {
     "data": {
      "text/plain": [
       "[[2, 3, 4, 5], [3, 4, 5, 6], [4, 5, 6, 7], [5, 6, 7, 8]]"
      ]
     },
     "execution_count": 13,
     "metadata": {},
     "output_type": "execute_result"
    }
   ],
   "source": [
    "lst=[1,2,3,4]\n",
    "new_lst=[[item+i for item in lst]for i in range(1,5) ]\n",
    "new_lst"
   ]
  },
  {
   "cell_type": "markdown",
   "id": "bf78ccac",
   "metadata": {},
   "source": [
    "Write List comprehensions to produce the following Lists\n",
    "[(1, 1), (2, 1), (3, 1), (1, 2), (2, 2), (3, 2), (1, 3), (2, 3), (3, 3)]"
   ]
  },
  {
   "cell_type": "code",
   "execution_count": 14,
   "id": "bed7bb32",
   "metadata": {},
   "outputs": [
    {
     "data": {
      "text/plain": [
       "[(1, 1), (2, 1), (3, 1), (1, 2), (2, 2), (3, 2), (1, 3), (2, 3), (3, 3)]"
      ]
     },
     "execution_count": 14,
     "metadata": {},
     "output_type": "execute_result"
    }
   ],
   "source": [
    "lst=[1,2,3]\n",
    "new_lst=[(item,i) for i in range(1,4) for item in lst]\n",
    "new_lst"
   ]
  }
 ],
 "metadata": {
  "kernelspec": {
   "display_name": "Python 3 (ipykernel)",
   "language": "python",
   "name": "python3"
  },
  "language_info": {
   "codemirror_mode": {
    "name": "ipython",
    "version": 3
   },
   "file_extension": ".py",
   "mimetype": "text/x-python",
   "name": "python",
   "nbconvert_exporter": "python",
   "pygments_lexer": "ipython3",
   "version": "3.9.7"
  }
 },
 "nbformat": 4,
 "nbformat_minor": 5
}
