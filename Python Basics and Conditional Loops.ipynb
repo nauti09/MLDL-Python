{
 "cells": [
  {
   "cell_type": "markdown",
   "id": "a7f1119c",
   "metadata": {},
   "source": [
    "1. Write a program which will find all such numbers which are divisible by 7 but are not a\n",
    "multiple of 5 , between 2000 and 3200 ( both included ) . The numbers obtained should be printed\n",
    "in a comma - separated sequence on a single line ."
   ]
  },
  {
   "cell_type": "code",
   "execution_count": 1,
   "id": "80a1b2a1",
   "metadata": {},
   "outputs": [
    {
     "name": "stdout",
     "output_type": "stream",
     "text": [
      "2030,2065,2100,2135,2170,2205,2240,2275,2310,2345,2380,2415,2450,2485,2520,2555,2590,2625,2660,2695,2730,2765,2800,2835,2870,2905,2940,2975,3010,3045,3080,3115,3150,3185,"
     ]
    }
   ],
   "source": [
    "for num in range(2000,3201):\n",
    "    if num%7==0:\n",
    "        if num%5==0:\n",
    "            print(num,end=',')"
   ]
  },
  {
   "cell_type": "markdown",
   "id": "45d600a7",
   "metadata": {},
   "source": [
    "2. Write a Python program to accept the user's first and last name and then getting them\n",
    "printed in the the reverse order with a space between first name and last name ."
   ]
  },
  {
   "cell_type": "code",
   "execution_count": 2,
   "id": "9f0a0509",
   "metadata": {},
   "outputs": [
    {
     "name": "stdout",
     "output_type": "stream",
     "text": [
      "Enter your First and last nameAyush Nautiyal\n"
     ]
    }
   ],
   "source": [
    "name=input(\"Enter your First and last name\")\n",
    "name_lst=name.split(' ')"
   ]
  },
  {
   "cell_type": "code",
   "execution_count": 3,
   "id": "aca59e26",
   "metadata": {},
   "outputs": [
    {
     "name": "stdout",
     "output_type": "stream",
     "text": [
      "Nautiyal Ayush\n"
     ]
    }
   ],
   "source": [
    "print(name_lst[1],name_lst[0])"
   ]
  },
  {
   "cell_type": "markdown",
   "id": "e95a163a",
   "metadata": {},
   "source": [
    "3. Write a Python program to find the volume of a sphere with diameter 12 cm .\n",
    "Formula : V = 4 / 3 * π * r³"
   ]
  },
  {
   "cell_type": "code",
   "execution_count": 4,
   "id": "6ca8a985",
   "metadata": {},
   "outputs": [],
   "source": [
    "r=12/2\n",
    "PI=3.14\n",
    "volume = (4*PI*(r**3))/3"
   ]
  },
  {
   "cell_type": "code",
   "execution_count": 5,
   "id": "f31c9b9a",
   "metadata": {},
   "outputs": [
    {
     "data": {
      "text/plain": [
       "904.32"
      ]
     },
     "execution_count": 5,
     "metadata": {},
     "output_type": "execute_result"
    }
   ],
   "source": [
    "volume"
   ]
  }
 ],
 "metadata": {
  "kernelspec": {
   "display_name": "Python 3 (ipykernel)",
   "language": "python",
   "name": "python3"
  },
  "language_info": {
   "codemirror_mode": {
    "name": "ipython",
    "version": 3
   },
   "file_extension": ".py",
   "mimetype": "text/x-python",
   "name": "python",
   "nbconvert_exporter": "python",
   "pygments_lexer": "ipython3",
   "version": "3.9.7"
  }
 },
 "nbformat": 4,
 "nbformat_minor": 5
}
