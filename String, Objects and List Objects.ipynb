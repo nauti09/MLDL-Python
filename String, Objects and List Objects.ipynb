{
 "cells": [
  {
   "cell_type": "markdown",
   "id": "07ce1192",
   "metadata": {},
   "source": [
    "# 1. Create the below pattern using nested for loop in Python .\n",
    "# *\n",
    "# **\n",
    "# ***\n",
    "# ****\n",
    "# *****\n",
    "# ****\n",
    "# ***\n",
    "# **\n",
    "# *"
   ]
  },
  {
   "cell_type": "code",
   "execution_count": 1,
   "id": "f36b9cd3",
   "metadata": {},
   "outputs": [
    {
     "name": "stdout",
     "output_type": "stream",
     "text": [
      "*\n",
      "**\n",
      "***\n",
      "****\n",
      "*****\n",
      "****\n",
      "***\n",
      "**\n",
      "*\n"
     ]
    }
   ],
   "source": [
    "for i in range(1,6):\n",
    "    for j in range(i):\n",
    "        print(\"*\",end='')\n",
    "    print('')\n",
    "for i in range(4,0,-1):\n",
    "    for j in range(i):\n",
    "        print('*',end='')\n",
    "    print('')"
   ]
  },
  {
   "cell_type": "markdown",
   "id": "1978af7a",
   "metadata": {},
   "source": [
    "2. Write a Python program to reverse a word after accepting the input from the user .\n",
    "Sample Output :\n",
    "Input word : ineuron\n",
    "Output : norueni"
   ]
  },
  {
   "cell_type": "code",
   "execution_count": 2,
   "id": "1dd50bee",
   "metadata": {},
   "outputs": [
    {
     "name": "stdout",
     "output_type": "stream",
     "text": [
      "enter a wordineuron\n"
     ]
    },
    {
     "data": {
      "text/plain": [
       "'norueni'"
      ]
     },
     "execution_count": 2,
     "metadata": {},
     "output_type": "execute_result"
    }
   ],
   "source": [
    "word=input(\"enter a word\")\n",
    "word[::-1]\n",
    "    "
   ]
  }
 ],
 "metadata": {
  "kernelspec": {
   "display_name": "Python 3 (ipykernel)",
   "language": "python",
   "name": "python3"
  },
  "language_info": {
   "codemirror_mode": {
    "name": "ipython",
    "version": 3
   },
   "file_extension": ".py",
   "mimetype": "text/x-python",
   "name": "python",
   "nbconvert_exporter": "python",
   "pygments_lexer": "ipython3",
   "version": "3.9.7"
  }
 },
 "nbformat": 4,
 "nbformat_minor": 5
}
